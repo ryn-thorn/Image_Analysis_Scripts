{
 "cells": [
  {
   "cell_type": "code",
   "execution_count": 5,
   "id": "0a693527-ba2e-480c-be99-93adbb913041",
   "metadata": {},
   "outputs": [
    {
     "name": "stdout",
     "output_type": "stream",
     "text": [
      "Saved: MRS_Mask_in_T1_tweaked.nii.gz\n",
      "Mask voxels: 7999\n",
      "Center used (mm): [  2.416907 -20.645858  16.55861 ]\n"
     ]
    }
   ],
   "source": [
    "#!/usr/bin/env python3\n",
    "\"\"\"\n",
    "Create MRS mask in T1 using the [0,0,0] convention and optional small manual offset (in mm).\n",
    "Tweak offset_mm = [x_mm, y_mm, z_mm] until overlay matches acquisition/localizer.\n",
    "\"\"\"\n",
    "\n",
    "import nibabel as nib\n",
    "import numpy as np\n",
    "import sys\n",
    "import os\n",
    "\n",
    "os.chdir(\"/Volumes/vdrive/helpern_users/helpern_j/IAM/IAM_Analysis/IAM_BIDS/derivatives/mrs/04_pc_voxel_segmentation/1002\")\n",
    "\n",
    "t1_file = \"T1.nii.gz\"\n",
    "mrs_file = \"PC_PRESS.nii.gz\"   # your MRS voxel file\n",
    "out_file = \"MRS_Mask_in_T1_tweaked.nii.gz\"\n",
    "\n",
    "# voxel index convention: use [0,0,0,1] because yellow was closest\n",
    "voxel_index = np.array([0.0, 0.0, 0.0, 1.0])\n",
    "\n",
    "# tweak these values (mm). Start with [0,0,0] and change by small amounts (e.g. ±1-10 mm)\n",
    "offset_mm = np.array([ 0.0,  0.0,  0.0])   # e.g. [ 5.0, -3.0, 1.5 ]\n",
    "\n",
    "t1 = nib.load(t1_file)\n",
    "t1_affine = t1.affine\n",
    "t1_shape = t1.shape\n",
    "\n",
    "mrs = nib.load(mrs_file)\n",
    "mrs_affine = mrs.affine\n",
    "mrs_zooms = np.array(mrs.header.get_zooms()[:3])\n",
    "\n",
    "center = (mrs_affine @ voxel_index)[:3] + offset_mm\n",
    "half_sizes = mrs_zooms / 2.0\n",
    "\n",
    "# build mask in T1 space\n",
    "i, j, k = np.indices(t1_shape)\n",
    "ijk = np.vstack([i.ravel(), j.ravel(), k.ravel(), np.ones(i.size)])\n",
    "world = t1_affine @ ijk\n",
    "x, y, z = world[:3]\n",
    "\n",
    "inside = (\n",
    "    (np.abs(x - center[0]) <= half_sizes[0]) &\n",
    "    (np.abs(y - center[1]) <= half_sizes[1]) &\n",
    "    (np.abs(z - center[2]) <= half_sizes[2])\n",
    ")\n",
    "\n",
    "mask = np.zeros(t1_shape, dtype=np.uint8)\n",
    "mask.ravel()[inside] = 1\n",
    "\n",
    "nib.save(nib.Nifti1Image(mask, t1_affine), out_file)\n",
    "print(\"Saved:\", out_file)\n",
    "print(\"Mask voxels:\", mask.sum())\n",
    "print(\"Center used (mm):\", center)\n"
   ]
  },
  {
   "cell_type": "code",
   "execution_count": null,
   "id": "47be1139-1476-406a-a0ff-11356206c449",
   "metadata": {},
   "outputs": [],
   "source": []
  }
 ],
 "metadata": {
  "kernelspec": {
   "display_name": "Python 3 (ipykernel)",
   "language": "python",
   "name": "python3"
  },
  "language_info": {
   "codemirror_mode": {
    "name": "ipython",
    "version": 3
   },
   "file_extension": ".py",
   "mimetype": "text/x-python",
   "name": "python",
   "nbconvert_exporter": "python",
   "pygments_lexer": "ipython3",
   "version": "3.11.7"
  }
 },
 "nbformat": 4,
 "nbformat_minor": 5
}
