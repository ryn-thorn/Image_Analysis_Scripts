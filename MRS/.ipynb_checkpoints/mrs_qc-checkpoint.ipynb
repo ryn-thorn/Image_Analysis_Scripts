{
 "cells": [
  {
   "cell_type": "markdown",
   "id": "eda1d352-a698-442d-85c6-d8ffad2b47fe",
   "metadata": {},
   "source": [
    "print the two candidate affines and the computed MRS center coordinates"
   ]
  },
  {
   "cell_type": "code",
   "execution_count": 2,
   "id": "5e8a1a1d-eaca-4eed-9dfe-ba1da77d70f8",
   "metadata": {
    "scrolled": true
   },
   "outputs": [
    {
     "name": "stdout",
     "output_type": "stream",
     "text": [
      "hdr.get_zooms()[:3] = (20.0, 20.0, 19.99999999999743)\n",
      "sform:\n",
      " (array([[ 19.97452955,   0.90374036,   0.44878073,   2.416907  ],\n",
      "       [  1.00851947, -17.59422694,  -9.45653662, -20.645858  ],\n",
      "       [ -0.03251998,   9.46712373, -17.61739229,  11.55861   ],\n",
      "       [  0.        ,   0.        ,   0.        ,   1.        ]]), 2)\n",
      "qform:\n",
      " (array([[ 19.97452978,   0.90374542,   0.44878073,   2.416907  ],\n",
      "       [  1.00851501, -17.59422668,  -9.45653662, -20.645858  ],\n",
      "       [ -0.03251758,   9.46712373, -17.61739229,  11.55861   ],\n",
      "       [  0.        ,   0.        ,   0.        ,   1.        ]]), 2)\n",
      "nib.load(...).affine:\n",
      " [[ 19.97452955   0.90374036   0.44878073   2.416907  ]\n",
      " [  1.00851947 -17.59422694  -9.45653662 -20.645858  ]\n",
      " [ -0.03251998   9.46712373 -17.61739229  11.55861   ]\n",
      " [  0.           0.           0.           1.        ]]\n",
      "center at (0,0,0): [  2.416907 -20.645858  11.55861 ]\n",
      "center at (0.5,0.5,0.5): [ 13.08043232 -33.66698004   7.46721573]\n"
     ]
    }
   ],
   "source": [
    "import nibabel as nib\n",
    "import numpy as np\n",
    "\n",
    "mrs = nib.load(\"/Volumes/vdrive/helpern_users/helpern_j/IAM/IAM_Analysis/IAM_BIDS/derivatives/mrs/04_pc_voxel_segmentation/1002/PC_PRESS.nii.gz\")\n",
    "hdr = mrs.header\n",
    "\n",
    "print(\"hdr.get_zooms()[:3] =\", hdr.get_zooms()[:3])\n",
    "print(\"sform:\\n\", hdr.get_sform(coded=True))\n",
    "print(\"qform:\\n\", hdr.get_qform(coded=True))\n",
    "\n",
    "# compute center using nibabel's .affine (which chooses sform if valid, else qform)\n",
    "aff = mrs.affine\n",
    "print(\"nib.load(...).affine:\\n\", aff)\n",
    "\n",
    "# center using voxel index (0,0,0,1)\n",
    "center0 = aff @ np.array([0,0,0,1])\n",
    "center05 = aff @ np.array([0.5,0.5,0.5,1])\n",
    "print(\"center at (0,0,0):\", center0[:3])\n",
    "print(\"center at (0.5,0.5,0.5):\", center05[:3])"
   ]
  },
  {
   "cell_type": "code",
   "execution_count": null,
   "id": "bafc541e-9eb7-410d-b717-9548de2bf02e",
   "metadata": {},
   "outputs": [],
   "source": []
  }
 ],
 "metadata": {
  "kernelspec": {
   "display_name": "Python 3 (ipykernel)",
   "language": "python",
   "name": "python3"
  },
  "language_info": {
   "codemirror_mode": {
    "name": "ipython",
    "version": 3
   },
   "file_extension": ".py",
   "mimetype": "text/x-python",
   "name": "python",
   "nbconvert_exporter": "python",
   "pygments_lexer": "ipython3",
   "version": "3.11.7"
  }
 },
 "nbformat": 4,
 "nbformat_minor": 5
}
